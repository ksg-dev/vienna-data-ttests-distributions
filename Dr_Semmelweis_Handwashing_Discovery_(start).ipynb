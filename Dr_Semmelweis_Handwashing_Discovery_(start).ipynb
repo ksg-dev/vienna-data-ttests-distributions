{
  "cells": [
    {
      "cell_type": "markdown",
      "metadata": {
        "id": "4q6Z8m5n63db"
      },
      "source": [
        "# Setup and Context\n",
        "\n",
        "<img src=\"https://i.imgur.com/gugIA5r.png\" width=700>"
      ]
    },
    {
      "cell_type": "markdown",
      "metadata": {
        "dc": {
          "key": "13f090f9f0"
        },
        "id": "IGsVeQXb63dd",
        "run_control": {
          "frozen": true
        },
        "tags": [
          "context"
        ]
      },
      "source": [
        "### Introduction\n",
        "\n",
        "Dr Ignaz Semmelweis was a Hungarian physician born in 1818 who worked in the Vienna General Hospital. In the past people thought of illness as caused by \"bad air\" or evil spirits. But in the 1800s Doctors started looking more at anatomy, doing autopsies and started making arguments based on data. Dr Semmelweis suspected that something was going wrong with the procedures at Vienna General Hospital. Semmelweis wanted to figure out why so many women in maternity wards were dying from childbed fever (i.e., [puerperal fever](https://en.wikipedia.org/wiki/Postpartum_infections)).\n",
        "\n",
        "<img src=https://i.imgur.com/lSyNUwR.png width=700>\n",
        "\n",
        "Today you will become Dr Semmelweis. This is your office 👆. You will step into Dr Semmelweis' shoes and analyse the same data collected from 1841 to 1849."
      ]
    },
    {
      "cell_type": "markdown",
      "metadata": {
        "id": "bafSbGVG63dd"
      },
      "source": [
        "### The Data Source\n",
        "\n",
        "Dr Semmelweis published his research in 1861. I found the scanned pages of the [full text with the original tables in German](http://www.deutschestextarchiv.de/book/show/semmelweis_kindbettfieber_1861), but an excellent [English translation can be found here](http://graphics8.nytimes.com/images/blogs/freakonomics/pdf/the%20etiology,%20concept%20and%20prophylaxis%20of%20childbed%20fever.pdf).\n",
        "\n",
        "<img src=https://i.imgur.com/6HfLtaC.png width=500>"
      ]
    },
    {
      "cell_type": "markdown",
      "metadata": {
        "id": "eL-9yKkvNr6N"
      },
      "source": [
        "### Upgrade plotly (only Google Colab Notebook)\n",
        "\n",
        "Google Colab may not be running the latest version of plotly. If you're working in Google Colab, uncomment the line below, run the cell, and restart your notebook server. "
      ]
    },
    {
      "cell_type": "code",
      "execution_count": null,
      "metadata": {
        "id": "eEEIIlY3N0oD"
      },
      "outputs": [],
      "source": [
        "# %pip install --upgrade plotly"
      ]
    },
    {
      "cell_type": "markdown",
      "metadata": {},
      "source": [
        "# !!_Other Misc Installs\n",
        "\n",
        "(So I don't have to do it later and restart)"
      ]
    },
    {
      "cell_type": "code",
      "execution_count": 1,
      "metadata": {},
      "outputs": [
        {
          "name": "stdout",
          "output_type": "stream",
          "text": [
            "Defaulting to user installation because normal site-packages is not writeable\n",
            "Requirement already satisfied: plotly in c:\\users\\ksgun\\appdata\\roaming\\python\\python311\\site-packages (5.24.0)\n",
            "Collecting plotly\n",
            "  Downloading plotly-5.24.1-py3-none-any.whl.metadata (7.3 kB)\n",
            "Requirement already satisfied: tenacity>=6.2.0 in c:\\users\\ksgun\\appdata\\roaming\\python\\python311\\site-packages (from plotly) (9.0.0)\n",
            "Requirement already satisfied: packaging in c:\\users\\ksgun\\appdata\\roaming\\python\\python311\\site-packages (from plotly) (23.2)\n",
            "Downloading plotly-5.24.1-py3-none-any.whl (19.1 MB)\n",
            "   ---------------------------------------- 0.0/19.1 MB ? eta -:--:--\n",
            "   ---------------------------------------- 0.0/19.1 MB ? eta -:--:--\n",
            "   ---------------------------------------- 0.1/19.1 MB 1.3 MB/s eta 0:00:15\n",
            "    --------------------------------------- 0.3/19.1 MB 3.1 MB/s eta 0:00:07\n",
            "   -- ------------------------------------- 1.0/19.1 MB 6.5 MB/s eta 0:00:03\n",
            "   ----- ---------------------------------- 2.5/19.1 MB 12.4 MB/s eta 0:00:02\n",
            "   -------- ------------------------------- 4.1/19.1 MB 16.3 MB/s eta 0:00:01\n",
            "   ----------- ---------------------------- 5.4/19.1 MB 18.3 MB/s eta 0:00:01\n",
            "   -------------- ------------------------- 6.8/19.1 MB 19.8 MB/s eta 0:00:01\n",
            "   ----------------- ---------------------- 8.4/19.1 MB 22.3 MB/s eta 0:00:01\n",
            "   -------------------- ------------------- 9.9/19.1 MB 24.5 MB/s eta 0:00:01\n",
            "   ------------------------ --------------- 11.5/19.1 MB 36.4 MB/s eta 0:00:01\n",
            "   ----------------------------- ---------- 13.8/19.1 MB 38.5 MB/s eta 0:00:01\n",
            "   --------------------------------- ------ 15.7/19.1 MB 40.9 MB/s eta 0:00:01\n",
            "   ---------------------------------- ----- 16.6/19.1 MB 38.5 MB/s eta 0:00:01\n",
            "   ---------------------------------------  18.6/19.1 MB 38.6 MB/s eta 0:00:01\n",
            "   ---------------------------------------- 19.1/19.1 MB 36.3 MB/s eta 0:00:00\n",
            "Installing collected packages: plotly\n",
            "  Attempting uninstall: plotly\n",
            "    Found existing installation: plotly 5.24.0\n",
            "    Uninstalling plotly-5.24.0:\n",
            "      Successfully uninstalled plotly-5.24.0\n",
            "Successfully installed plotly-5.24.1\n",
            "Note: you may need to restart the kernel to use updated packages.\n"
          ]
        },
        {
          "name": "stderr",
          "output_type": "stream",
          "text": [
            "\n",
            "[notice] A new release of pip is available: 24.0 -> 24.2\n",
            "[notice] To update, run: python.exe -m pip install --upgrade pip\n"
          ]
        },
        {
          "name": "stdout",
          "output_type": "stream",
          "text": [
            "Defaulting to user installation because normal site-packages is not writeable\n",
            "Requirement already satisfied: nbformat in c:\\users\\ksgun\\appdata\\roaming\\python\\python311\\site-packages (5.10.4)\n",
            "Requirement already satisfied: fastjsonschema>=2.15 in c:\\users\\ksgun\\appdata\\roaming\\python\\python311\\site-packages (from nbformat) (2.20.0)\n",
            "Requirement already satisfied: jsonschema>=2.6 in c:\\users\\ksgun\\appdata\\roaming\\python\\python311\\site-packages (from nbformat) (4.23.0)\n",
            "Requirement already satisfied: jupyter-core!=5.0.*,>=4.12 in c:\\users\\ksgun\\appdata\\roaming\\python\\python311\\site-packages (from nbformat) (5.5.0)\n",
            "Requirement already satisfied: traitlets>=5.1 in c:\\users\\ksgun\\appdata\\roaming\\python\\python311\\site-packages (from nbformat) (5.13.0)\n",
            "Requirement already satisfied: attrs>=22.2.0 in c:\\users\\ksgun\\appdata\\roaming\\python\\python311\\site-packages (from jsonschema>=2.6->nbformat) (24.2.0)\n",
            "Requirement already satisfied: jsonschema-specifications>=2023.03.6 in c:\\users\\ksgun\\appdata\\roaming\\python\\python311\\site-packages (from jsonschema>=2.6->nbformat) (2023.12.1)\n",
            "Requirement already satisfied: referencing>=0.28.4 in c:\\users\\ksgun\\appdata\\roaming\\python\\python311\\site-packages (from jsonschema>=2.6->nbformat) (0.35.1)\n",
            "Requirement already satisfied: rpds-py>=0.7.1 in c:\\users\\ksgun\\appdata\\roaming\\python\\python311\\site-packages (from jsonschema>=2.6->nbformat) (0.20.0)\n",
            "Requirement already satisfied: platformdirs>=2.5 in c:\\users\\ksgun\\appdata\\roaming\\python\\python311\\site-packages (from jupyter-core!=5.0.*,>=4.12->nbformat) (4.0.0)\n",
            "Requirement already satisfied: pywin32>=300 in c:\\users\\ksgun\\appdata\\roaming\\python\\python311\\site-packages (from jupyter-core!=5.0.*,>=4.12->nbformat) (306)\n",
            "Note: you may need to restart the kernel to use updated packages.\n"
          ]
        },
        {
          "name": "stderr",
          "output_type": "stream",
          "text": [
            "\n",
            "[notice] A new release of pip is available: 24.0 -> 24.2\n",
            "[notice] To update, run: python.exe -m pip install --upgrade pip\n"
          ]
        },
        {
          "name": "stdout",
          "output_type": "stream",
          "text": [
            "Defaulting to user installation because normal site-packages is not writeable\n",
            "Requirement already satisfied: statsmodels in c:\\users\\ksgun\\appdata\\roaming\\python\\python311\\site-packages (0.14.2)\n",
            "Requirement already satisfied: numpy>=1.22.3 in c:\\users\\ksgun\\appdata\\roaming\\python\\python311\\site-packages (from statsmodels) (2.1.0)\n",
            "Requirement already satisfied: scipy!=1.9.2,>=1.8 in c:\\users\\ksgun\\appdata\\roaming\\python\\python311\\site-packages (from statsmodels) (1.14.1)\n",
            "Requirement already satisfied: pandas!=2.1.0,>=1.4 in c:\\users\\ksgun\\appdata\\roaming\\python\\python311\\site-packages (from statsmodels) (2.2.2)\n",
            "Requirement already satisfied: patsy>=0.5.6 in c:\\users\\ksgun\\appdata\\roaming\\python\\python311\\site-packages (from statsmodels) (0.5.6)\n",
            "Requirement already satisfied: packaging>=21.3 in c:\\users\\ksgun\\appdata\\roaming\\python\\python311\\site-packages (from statsmodels) (23.2)\n",
            "Requirement already satisfied: python-dateutil>=2.8.2 in c:\\users\\ksgun\\appdata\\roaming\\python\\python311\\site-packages (from pandas!=2.1.0,>=1.4->statsmodels) (2.8.2)\n",
            "Requirement already satisfied: pytz>=2020.1 in c:\\users\\ksgun\\appdata\\roaming\\python\\python311\\site-packages (from pandas!=2.1.0,>=1.4->statsmodels) (2024.1)\n",
            "Requirement already satisfied: tzdata>=2022.7 in c:\\users\\ksgun\\appdata\\roaming\\python\\python311\\site-packages (from pandas!=2.1.0,>=1.4->statsmodels) (2024.1)\n",
            "Requirement already satisfied: six in c:\\users\\ksgun\\appdata\\roaming\\python\\python311\\site-packages (from patsy>=0.5.6->statsmodels) (1.16.0)\n",
            "Note: you may need to restart the kernel to use updated packages.\n"
          ]
        },
        {
          "name": "stderr",
          "output_type": "stream",
          "text": [
            "\n",
            "[notice] A new release of pip is available: 24.0 -> 24.2\n",
            "[notice] To update, run: python.exe -m pip install --upgrade pip\n"
          ]
        }
      ],
      "source": [
        "# # To update Plotly above, but include so all at once\n",
        "# %pip install --upgrade plotly\n",
        "\n",
        "# # Needed to show charts\n",
        "# %pip install nbformat\n",
        "\n",
        "\n",
        "# # When charting with Seaborn/Plotly and want lowess true to produce trendline\n",
        "# %pip install statsmodels"
      ]
    },
    {
      "cell_type": "markdown",
      "metadata": {
        "id": "nF_Ci_SA63dd"
      },
      "source": [
        "### Import Statements"
      ]
    },
    {
      "cell_type": "code",
      "execution_count": 2,
      "metadata": {
        "id": "kNoOuCg563de"
      },
      "outputs": [],
      "source": [
        "import pandas as pd\n",
        "import numpy as np\n",
        "import plotly.express as px\n",
        "import seaborn as sns\n",
        "import matplotlib.pyplot as plt\n",
        "import matplotlib.dates as mdates"
      ]
    },
    {
      "cell_type": "markdown",
      "metadata": {
        "id": "PcWO2FOi63di"
      },
      "source": [
        "### Notebook Presentation"
      ]
    },
    {
      "cell_type": "code",
      "execution_count": 3,
      "metadata": {
        "id": "YV7Y4mhp63dj"
      },
      "outputs": [],
      "source": [
        "pd.options.display.float_format = '{:,.2f}'.format\n",
        "\n",
        "# Create locators for ticks on the time axis\n",
        "\n",
        "\n",
        "from pandas.plotting import register_matplotlib_converters\n",
        "register_matplotlib_converters()"
      ]
    },
    {
      "cell_type": "markdown",
      "metadata": {
        "id": "rp8Dqfp663dg"
      },
      "source": [
        "### Read the Data"
      ]
    },
    {
      "cell_type": "code",
      "execution_count": 4,
      "metadata": {
        "id": "Wdr6_0pk63dh"
      },
      "outputs": [],
      "source": [
        "df_yearly = pd.read_csv('annual_deaths_by_clinic.csv')\n",
        "# parse_dates avoids DateTime conversion later\n",
        "df_monthly = pd.read_csv('monthly_deaths.csv', \n",
        "                      parse_dates=['date'])"
      ]
    },
    {
      "cell_type": "markdown",
      "metadata": {
        "id": "C8ZLkXkk63dl"
      },
      "source": [
        "# Preliminary Data Exploration\n",
        "\n",
        "**Challenge**: Check out these two DataFrames ☝️. \n",
        "* What is the shape of df_yearly and df_monthly? How many rows and columns?\n",
        "* What are the column names?\n",
        "* Which years are included in the dataset?\n",
        "* Are there any NaN values or duplicates?\n",
        "* What were the average number of births that took place per month?\n",
        "* What were the average number of deaths that took place per month?"
      ]
    },
    {
      "cell_type": "code",
      "execution_count": 5,
      "metadata": {
        "id": "CDYyshRAHySR"
      },
      "outputs": [
        {
          "data": {
            "text/plain": [
              "(12, 4)"
            ]
          },
          "execution_count": 5,
          "metadata": {},
          "output_type": "execute_result"
        }
      ],
      "source": [
        "df_yearly.shape"
      ]
    },
    {
      "cell_type": "code",
      "execution_count": 10,
      "metadata": {},
      "outputs": [
        {
          "data": {
            "text/html": [
              "<div>\n",
              "<style scoped>\n",
              "    .dataframe tbody tr th:only-of-type {\n",
              "        vertical-align: middle;\n",
              "    }\n",
              "\n",
              "    .dataframe tbody tr th {\n",
              "        vertical-align: top;\n",
              "    }\n",
              "\n",
              "    .dataframe thead th {\n",
              "        text-align: right;\n",
              "    }\n",
              "</style>\n",
              "<table border=\"1\" class=\"dataframe\">\n",
              "  <thead>\n",
              "    <tr style=\"text-align: right;\">\n",
              "      <th></th>\n",
              "      <th>year</th>\n",
              "      <th>births</th>\n",
              "      <th>deaths</th>\n",
              "      <th>clinic</th>\n",
              "    </tr>\n",
              "  </thead>\n",
              "  <tbody>\n",
              "    <tr>\n",
              "      <th>0</th>\n",
              "      <td>1841</td>\n",
              "      <td>3036</td>\n",
              "      <td>237</td>\n",
              "      <td>clinic 1</td>\n",
              "    </tr>\n",
              "    <tr>\n",
              "      <th>6</th>\n",
              "      <td>1841</td>\n",
              "      <td>2442</td>\n",
              "      <td>86</td>\n",
              "      <td>clinic 2</td>\n",
              "    </tr>\n",
              "    <tr>\n",
              "      <th>1</th>\n",
              "      <td>1842</td>\n",
              "      <td>3287</td>\n",
              "      <td>518</td>\n",
              "      <td>clinic 1</td>\n",
              "    </tr>\n",
              "    <tr>\n",
              "      <th>7</th>\n",
              "      <td>1842</td>\n",
              "      <td>2659</td>\n",
              "      <td>202</td>\n",
              "      <td>clinic 2</td>\n",
              "    </tr>\n",
              "    <tr>\n",
              "      <th>2</th>\n",
              "      <td>1843</td>\n",
              "      <td>3060</td>\n",
              "      <td>274</td>\n",
              "      <td>clinic 1</td>\n",
              "    </tr>\n",
              "    <tr>\n",
              "      <th>8</th>\n",
              "      <td>1843</td>\n",
              "      <td>2739</td>\n",
              "      <td>164</td>\n",
              "      <td>clinic 2</td>\n",
              "    </tr>\n",
              "    <tr>\n",
              "      <th>3</th>\n",
              "      <td>1844</td>\n",
              "      <td>3157</td>\n",
              "      <td>260</td>\n",
              "      <td>clinic 1</td>\n",
              "    </tr>\n",
              "    <tr>\n",
              "      <th>9</th>\n",
              "      <td>1844</td>\n",
              "      <td>2956</td>\n",
              "      <td>68</td>\n",
              "      <td>clinic 2</td>\n",
              "    </tr>\n",
              "    <tr>\n",
              "      <th>4</th>\n",
              "      <td>1845</td>\n",
              "      <td>3492</td>\n",
              "      <td>241</td>\n",
              "      <td>clinic 1</td>\n",
              "    </tr>\n",
              "    <tr>\n",
              "      <th>10</th>\n",
              "      <td>1845</td>\n",
              "      <td>3241</td>\n",
              "      <td>66</td>\n",
              "      <td>clinic 2</td>\n",
              "    </tr>\n",
              "    <tr>\n",
              "      <th>5</th>\n",
              "      <td>1846</td>\n",
              "      <td>4010</td>\n",
              "      <td>459</td>\n",
              "      <td>clinic 1</td>\n",
              "    </tr>\n",
              "    <tr>\n",
              "      <th>11</th>\n",
              "      <td>1846</td>\n",
              "      <td>3754</td>\n",
              "      <td>105</td>\n",
              "      <td>clinic 2</td>\n",
              "    </tr>\n",
              "  </tbody>\n",
              "</table>\n",
              "</div>"
            ],
            "text/plain": [
              "    year  births  deaths    clinic\n",
              "0   1841    3036     237  clinic 1\n",
              "6   1841    2442      86  clinic 2\n",
              "1   1842    3287     518  clinic 1\n",
              "7   1842    2659     202  clinic 2\n",
              "2   1843    3060     274  clinic 1\n",
              "8   1843    2739     164  clinic 2\n",
              "3   1844    3157     260  clinic 1\n",
              "9   1844    2956      68  clinic 2\n",
              "4   1845    3492     241  clinic 1\n",
              "10  1845    3241      66  clinic 2\n",
              "5   1846    4010     459  clinic 1\n",
              "11  1846    3754     105  clinic 2"
            ]
          },
          "execution_count": 10,
          "metadata": {},
          "output_type": "execute_result"
        }
      ],
      "source": [
        "df_yearly.sort_values(by=['year', 'clinic'], inplace=True)\n",
        "df_yearly"
      ]
    },
    {
      "cell_type": "code",
      "execution_count": 11,
      "metadata": {},
      "outputs": [
        {
          "data": {
            "text/plain": [
              "(98, 3)"
            ]
          },
          "execution_count": 11,
          "metadata": {},
          "output_type": "execute_result"
        }
      ],
      "source": [
        "df_monthly.shape"
      ]
    },
    {
      "cell_type": "code",
      "execution_count": 12,
      "metadata": {},
      "outputs": [
        {
          "data": {
            "text/html": [
              "<div>\n",
              "<style scoped>\n",
              "    .dataframe tbody tr th:only-of-type {\n",
              "        vertical-align: middle;\n",
              "    }\n",
              "\n",
              "    .dataframe tbody tr th {\n",
              "        vertical-align: top;\n",
              "    }\n",
              "\n",
              "    .dataframe thead th {\n",
              "        text-align: right;\n",
              "    }\n",
              "</style>\n",
              "<table border=\"1\" class=\"dataframe\">\n",
              "  <thead>\n",
              "    <tr style=\"text-align: right;\">\n",
              "      <th></th>\n",
              "      <th>date</th>\n",
              "      <th>births</th>\n",
              "      <th>deaths</th>\n",
              "    </tr>\n",
              "  </thead>\n",
              "  <tbody>\n",
              "    <tr>\n",
              "      <th>0</th>\n",
              "      <td>1841-01-01</td>\n",
              "      <td>254</td>\n",
              "      <td>37</td>\n",
              "    </tr>\n",
              "    <tr>\n",
              "      <th>1</th>\n",
              "      <td>1841-02-01</td>\n",
              "      <td>239</td>\n",
              "      <td>18</td>\n",
              "    </tr>\n",
              "    <tr>\n",
              "      <th>2</th>\n",
              "      <td>1841-03-01</td>\n",
              "      <td>277</td>\n",
              "      <td>12</td>\n",
              "    </tr>\n",
              "    <tr>\n",
              "      <th>3</th>\n",
              "      <td>1841-04-01</td>\n",
              "      <td>255</td>\n",
              "      <td>4</td>\n",
              "    </tr>\n",
              "    <tr>\n",
              "      <th>4</th>\n",
              "      <td>1841-05-01</td>\n",
              "      <td>255</td>\n",
              "      <td>2</td>\n",
              "    </tr>\n",
              "  </tbody>\n",
              "</table>\n",
              "</div>"
            ],
            "text/plain": [
              "        date  births  deaths\n",
              "0 1841-01-01     254      37\n",
              "1 1841-02-01     239      18\n",
              "2 1841-03-01     277      12\n",
              "3 1841-04-01     255       4\n",
              "4 1841-05-01     255       2"
            ]
          },
          "execution_count": 12,
          "metadata": {},
          "output_type": "execute_result"
        }
      ],
      "source": [
        "df_monthly.head()"
      ]
    },
    {
      "cell_type": "code",
      "execution_count": 13,
      "metadata": {},
      "outputs": [
        {
          "data": {
            "text/html": [
              "<div>\n",
              "<style scoped>\n",
              "    .dataframe tbody tr th:only-of-type {\n",
              "        vertical-align: middle;\n",
              "    }\n",
              "\n",
              "    .dataframe tbody tr th {\n",
              "        vertical-align: top;\n",
              "    }\n",
              "\n",
              "    .dataframe thead th {\n",
              "        text-align: right;\n",
              "    }\n",
              "</style>\n",
              "<table border=\"1\" class=\"dataframe\">\n",
              "  <thead>\n",
              "    <tr style=\"text-align: right;\">\n",
              "      <th></th>\n",
              "      <th>date</th>\n",
              "      <th>births</th>\n",
              "      <th>deaths</th>\n",
              "    </tr>\n",
              "  </thead>\n",
              "  <tbody>\n",
              "    <tr>\n",
              "      <th>0</th>\n",
              "      <td>1841-01-01</td>\n",
              "      <td>254</td>\n",
              "      <td>37</td>\n",
              "    </tr>\n",
              "    <tr>\n",
              "      <th>1</th>\n",
              "      <td>1841-02-01</td>\n",
              "      <td>239</td>\n",
              "      <td>18</td>\n",
              "    </tr>\n",
              "    <tr>\n",
              "      <th>2</th>\n",
              "      <td>1841-03-01</td>\n",
              "      <td>277</td>\n",
              "      <td>12</td>\n",
              "    </tr>\n",
              "    <tr>\n",
              "      <th>3</th>\n",
              "      <td>1841-04-01</td>\n",
              "      <td>255</td>\n",
              "      <td>4</td>\n",
              "    </tr>\n",
              "    <tr>\n",
              "      <th>4</th>\n",
              "      <td>1841-05-01</td>\n",
              "      <td>255</td>\n",
              "      <td>2</td>\n",
              "    </tr>\n",
              "    <tr>\n",
              "      <th>...</th>\n",
              "      <td>...</td>\n",
              "      <td>...</td>\n",
              "      <td>...</td>\n",
              "    </tr>\n",
              "    <tr>\n",
              "      <th>93</th>\n",
              "      <td>1848-11-01</td>\n",
              "      <td>310</td>\n",
              "      <td>9</td>\n",
              "    </tr>\n",
              "    <tr>\n",
              "      <th>94</th>\n",
              "      <td>1848-12-01</td>\n",
              "      <td>373</td>\n",
              "      <td>5</td>\n",
              "    </tr>\n",
              "    <tr>\n",
              "      <th>95</th>\n",
              "      <td>1849-01-01</td>\n",
              "      <td>403</td>\n",
              "      <td>9</td>\n",
              "    </tr>\n",
              "    <tr>\n",
              "      <th>96</th>\n",
              "      <td>1849-02-01</td>\n",
              "      <td>389</td>\n",
              "      <td>12</td>\n",
              "    </tr>\n",
              "    <tr>\n",
              "      <th>97</th>\n",
              "      <td>1849-03-01</td>\n",
              "      <td>406</td>\n",
              "      <td>20</td>\n",
              "    </tr>\n",
              "  </tbody>\n",
              "</table>\n",
              "<p>98 rows × 3 columns</p>\n",
              "</div>"
            ],
            "text/plain": [
              "         date  births  deaths\n",
              "0  1841-01-01     254      37\n",
              "1  1841-02-01     239      18\n",
              "2  1841-03-01     277      12\n",
              "3  1841-04-01     255       4\n",
              "4  1841-05-01     255       2\n",
              "..        ...     ...     ...\n",
              "93 1848-11-01     310       9\n",
              "94 1848-12-01     373       5\n",
              "95 1849-01-01     403       9\n",
              "96 1849-02-01     389      12\n",
              "97 1849-03-01     406      20\n",
              "\n",
              "[98 rows x 3 columns]"
            ]
          },
          "execution_count": 13,
          "metadata": {},
          "output_type": "execute_result"
        }
      ],
      "source": [
        "df_monthly.sort_values(by='date', inplace=True)\n",
        "df_monthly"
      ]
    },
    {
      "cell_type": "code",
      "execution_count": 14,
      "metadata": {},
      "outputs": [
        {
          "data": {
            "text/plain": [
              "np.float64(267.0)"
            ]
          },
          "execution_count": 14,
          "metadata": {},
          "output_type": "execute_result"
        }
      ],
      "source": [
        "df_monthly.births.mean()"
      ]
    },
    {
      "cell_type": "code",
      "execution_count": 15,
      "metadata": {},
      "outputs": [
        {
          "data": {
            "text/plain": [
              "np.float64(22.46938775510204)"
            ]
          },
          "execution_count": 15,
          "metadata": {},
          "output_type": "execute_result"
        }
      ],
      "source": [
        "df_monthly.deaths.mean()"
      ]
    },
    {
      "cell_type": "code",
      "execution_count": null,
      "metadata": {
        "id": "0CmnKF4_Hyg0"
      },
      "outputs": [],
      "source": []
    },
    {
      "cell_type": "markdown",
      "metadata": {
        "id": "yiZF9Tat63dq"
      },
      "source": [
        "### Check for Nan Values and Duplicates"
      ]
    },
    {
      "cell_type": "code",
      "execution_count": 19,
      "metadata": {
        "id": "xdyyfk2oH0Ab"
      },
      "outputs": [
        {
          "name": "stdout",
          "output_type": "stream",
          "text": [
            "Dupes? False\n",
            "NaN? False\n"
          ]
        }
      ],
      "source": [
        "print(f\"Dupes? {df_monthly.duplicated().values.any()}\")\n",
        "print(f\"NaN? {df_monthly.isna().values.any()}\")"
      ]
    },
    {
      "cell_type": "code",
      "execution_count": 20,
      "metadata": {},
      "outputs": [
        {
          "name": "stdout",
          "output_type": "stream",
          "text": [
            "Dupes? False\n",
            "NaN? False\n"
          ]
        }
      ],
      "source": [
        "print(f\"Dupes? {df_yearly.duplicated().values.any()}\")\n",
        "print(f\"NaN? {df_yearly.isna().values.any()}\")"
      ]
    },
    {
      "cell_type": "markdown",
      "metadata": {
        "id": "Y6RkTaM463dz"
      },
      "source": [
        "### Descriptive Statistics"
      ]
    },
    {
      "cell_type": "code",
      "execution_count": null,
      "metadata": {
        "id": "8emz_sBZH2GL"
      },
      "outputs": [],
      "source": []
    },
    {
      "cell_type": "markdown",
      "metadata": {
        "id": "RzhICI3I63d3"
      },
      "source": [
        "### Percentage of Women Dying in Childbirth\n",
        "\n",
        "**Challenge**: How dangerous was childbirth in the 1840s in Vienna? \n",
        "\n",
        "* Using the annual data, calculate the percentage of women giving birth who died throughout the 1840s at the hospital.\n",
        "\n",
        "\n",
        "In comparison, the United States recorded 18.5 maternal deaths per 100,000 or 0.018% in 2013 [(source).](\n",
        "https://en.wikipedia.org/wiki/Maternal_death#:~:text=The%20US%20has%20the%20%22highest,17.8%20per%20100%2C000%20in%202009)"
      ]
    },
    {
      "cell_type": "code",
      "execution_count": null,
      "metadata": {
        "id": "qWcjo7O5H3g3"
      },
      "outputs": [],
      "source": []
    },
    {
      "cell_type": "markdown",
      "metadata": {
        "id": "SSOrUkmx63d6"
      },
      "source": [
        "# Visualise the Total Number of Births 🤱 and Deaths 💀 over Time"
      ]
    },
    {
      "cell_type": "markdown",
      "metadata": {
        "id": "z88_SbNf63d6"
      },
      "source": [
        "### Plot the Monthly Data on Twin Axes\n",
        "\n",
        "**Challenge**: Create a [Matplotlib chart](https://matplotlib.org/3.3.2/api/_as_gen/matplotlib.pyplot.plot.html) with twin y-axes. It should look something like this:\n",
        "\n",
        "<img src=https://i.imgur.com/F9DOJxx.png width=700>\n",
        "\n",
        "* Format the x-axis using locators for the years and months (Hint: we did this in the Google Trends notebook)\n",
        "* Set the range on the x-axis so that the chart lines touch the y-axes\n",
        "* Add gridlines\n",
        "* Use `skyblue` and `crimson` for the line colours\n",
        "* Use a dashed line style for the number of deaths\n",
        "* Change the line thickness to 3 and 2 for the births and deaths respectively. \n",
        "* Do you notice anything in the late 1840s?"
      ]
    },
    {
      "cell_type": "code",
      "execution_count": null,
      "metadata": {
        "id": "pSeMQxKMH52c"
      },
      "outputs": [],
      "source": []
    },
    {
      "cell_type": "code",
      "execution_count": null,
      "metadata": {
        "id": "G9Zg86loH5a2"
      },
      "outputs": [],
      "source": []
    },
    {
      "cell_type": "markdown",
      "metadata": {
        "id": "mpg4uvsl63d9"
      },
      "source": [
        "# The Yearly Data Split by Clinic\n",
        "\n",
        "Now let's look at the annual data instead. \n",
        "\n",
        "**Challenge**: Use plotly to create line charts of the births and deaths of the two different clinics at the Vienna General Hospital. \n",
        "* Which clinic is bigger or more busy judging by the number of births?\n",
        "* Has the hospital had more patients over time? \n",
        "* What was the highest number of deaths recorded in clinic 1 and clinic 2?"
      ]
    },
    {
      "cell_type": "code",
      "execution_count": null,
      "metadata": {
        "id": "Xg65zUR8H7c2"
      },
      "outputs": [],
      "source": []
    },
    {
      "cell_type": "code",
      "execution_count": null,
      "metadata": {
        "id": "4aTJqbcVH9MG"
      },
      "outputs": [],
      "source": []
    },
    {
      "cell_type": "markdown",
      "metadata": {
        "dc": {
          "key": "2bc9206960"
        },
        "id": "0M63EmW563eE",
        "run_control": {
          "frozen": true
        },
        "tags": [
          "context"
        ]
      },
      "source": [
        "### Calculate the Proportion of Deaths at Each Clinic"
      ]
    },
    {
      "cell_type": "markdown",
      "metadata": {
        "id": "SWnxkKx963eE"
      },
      "source": [
        "**Challenge**: Calculate the proportion of maternal deaths per clinic. That way we can compare like with like. \n",
        "* Work out the percentage of deaths for each row in the `df_yearly` DataFrame by adding a column called \"pct_deaths\". \n",
        "* Calculate the average maternal death rate for clinic 1 and clinic 2 (i.e., the total number of deaths per the total number of births).\n",
        "* Create another plotly line chart to see how the percentage varies year over year with the two different clinics.\n",
        "* Which clinic has a higher proportion of deaths?\n",
        "* What is the highest monthly death rate in clinic 1 compared to clinic 2?"
      ]
    },
    {
      "cell_type": "code",
      "execution_count": null,
      "metadata": {
        "id": "1His6I9tH-U7"
      },
      "outputs": [],
      "source": []
    },
    {
      "cell_type": "code",
      "execution_count": null,
      "metadata": {
        "id": "qjK489pIH-BF"
      },
      "outputs": [],
      "source": []
    },
    {
      "cell_type": "markdown",
      "metadata": {
        "id": "sX47nwJMRxWR"
      },
      "source": [
        "### Plotting the Proportion of Yearly Deaths by Clinic"
      ]
    },
    {
      "cell_type": "code",
      "execution_count": null,
      "metadata": {
        "id": "gRxQwbovH__L"
      },
      "outputs": [],
      "source": []
    },
    {
      "cell_type": "code",
      "execution_count": null,
      "metadata": {
        "id": "_b2fo2gqH_1n"
      },
      "outputs": [],
      "source": []
    },
    {
      "cell_type": "markdown",
      "metadata": {
        "dc": {
          "key": "518e95acc5"
        },
        "id": "ggep-emG63eX",
        "run_control": {
          "frozen": true
        },
        "tags": [
          "context"
        ]
      },
      "source": [
        "# The Effect of Handwashing\n",
        "\n",
        "Dr Semmelweis made handwashing obligatory in the summer of 1947. In fact, he ordered people to wash their hands with clorine (instead of water)."
      ]
    },
    {
      "cell_type": "code",
      "execution_count": null,
      "metadata": {
        "id": "QFN7gYTD63eX"
      },
      "outputs": [],
      "source": [
        "# Date when handwashing was made mandatory\n",
        "handwashing_start = pd.to_datetime('1847-06-01')"
      ]
    },
    {
      "cell_type": "markdown",
      "metadata": {
        "id": "xzsKlZ8CSNkM"
      },
      "source": [
        "**Challenge**: \n",
        "* Add a column called \"pct_deaths\" to `df_monthly` that has the percentage of deaths per birth for each row. \n",
        "* Create two subsets from the `df_monthly` data: before and after Dr Semmelweis ordered washing hand.\n",
        "* Calculate the average death rate prior to June 1947.\n",
        "* Calculate the average death rate after June 1947."
      ]
    },
    {
      "cell_type": "code",
      "execution_count": null,
      "metadata": {
        "id": "Zv47y222ICFE"
      },
      "outputs": [],
      "source": []
    },
    {
      "cell_type": "code",
      "execution_count": null,
      "metadata": {
        "id": "uwVulybHIBk_"
      },
      "outputs": [],
      "source": []
    },
    {
      "cell_type": "markdown",
      "metadata": {
        "id": "BgX_WAt0rcmf"
      },
      "source": [
        "### Calculate a Rolling Average of the Death Rate"
      ]
    },
    {
      "cell_type": "markdown",
      "metadata": {
        "id": "q8oeZj6kpZFl"
      },
      "source": [
        "**Challenge**: Create a DataFrame that has the 6 month rolling average death rate prior to mandatory handwashing.\n",
        "\n",
        "*Hint*: You'll need to set the dates as the index in order to avoid the date column being dropped during the calculation."
      ]
    },
    {
      "cell_type": "code",
      "execution_count": null,
      "metadata": {
        "id": "xh5skyLJIGJF"
      },
      "outputs": [],
      "source": []
    },
    {
      "cell_type": "code",
      "execution_count": null,
      "metadata": {
        "id": "KImHv9CuIEDQ"
      },
      "outputs": [],
      "source": []
    },
    {
      "cell_type": "markdown",
      "metadata": {
        "id": "nLoDpnv8SzQH"
      },
      "source": [
        "### Highlighting Subsections of a Line Chart\n",
        "\n",
        "**Challenge**: Copy-paste and then modify the Matplotlib chart from before to plot the monthly death rates (instead of the total number of births and deaths). The chart should look something like this:\n",
        "\n",
        "<img src=https://i.imgur.com/X6TQe0R.png width=500>\n",
        "\n",
        "* Add 3 seperate lines to the plot: the death rate before handwashing, after handwashing, and the 6-month moving average before handwashing.\n",
        "* Show the monthly death rate before handwashing as a thin dashed black line. \n",
        "* Show the moving average as a thicker, crimon line.\n",
        "* Show the rate after handwashing as a skyblue line with round markers. \n",
        "* Look at the [code snippet in the documentation to see how you can add a legend](https://matplotlib.org/3.1.1/api/_as_gen/matplotlib.pyplot.legend.html) to the chart."
      ]
    },
    {
      "cell_type": "code",
      "execution_count": null,
      "metadata": {
        "id": "XPHokmgTIG32"
      },
      "outputs": [],
      "source": []
    },
    {
      "cell_type": "markdown",
      "metadata": {
        "dc": {
          "key": "586a9f9803"
        },
        "id": "FPiDMwTh63el",
        "run_control": {
          "frozen": true
        },
        "tags": [
          "context"
        ]
      },
      "source": [
        "### Statistics - Calculate the Difference in the Average Monthly Death Rate\n",
        "\n",
        "**Challenge**:\n",
        "* What was the average percentage of monthly deaths before handwashing? \n",
        "* What was the average percentage of monthly deaths after handwashing was made obligatory?\n",
        "* By how much did handwashing reduce the average chance of dying in childbirth in percentage terms?\n",
        "* How do these numbers compare to the average for all the 1840s that we calculated earlier? \n",
        "* How many times lower are the chances of dying after handwashing compared to before?"
      ]
    },
    {
      "cell_type": "code",
      "execution_count": null,
      "metadata": {
        "id": "HJMSk8xYIIGX"
      },
      "outputs": [],
      "source": []
    },
    {
      "cell_type": "markdown",
      "metadata": {
        "id": "oqBw_uL963eh"
      },
      "source": [
        "### Use Box Plots to Show How the Death Rate Changed Before and After Handwashing\n",
        "\n",
        "**Challenge**: \n",
        "* Use [NumPy's `.where()` function](https://numpy.org/doc/stable/reference/generated/numpy.where.html) to add a column to `df_monthly` that shows if a particular date was before or after the start of handwashing. \n",
        "* Then use plotly to create box plot of the data before and after handwashing. \n",
        "* How did key statistics like the mean, max, min, 1st and 3rd quartile changed as a result of the new policy?\n",
        "\n"
      ]
    },
    {
      "cell_type": "code",
      "execution_count": null,
      "metadata": {
        "id": "RVqz63Y9IJXg"
      },
      "outputs": [],
      "source": []
    },
    {
      "cell_type": "code",
      "execution_count": null,
      "metadata": {
        "id": "etNOMby-ILkv"
      },
      "outputs": [],
      "source": []
    },
    {
      "cell_type": "markdown",
      "metadata": {
        "id": "7CPfSdgt63en"
      },
      "source": [
        "### Use Histograms to Visualise the Monthly Distribution of Outcomes\n",
        "\n",
        "**Challenge**: Create a [plotly histogram](https://plotly.com/python/histograms/) to show the monthly percentage of deaths. \n",
        "\n",
        "* Use docs to check out the available parameters. Use the [`color` parameter](https://plotly.github.io/plotly.py-docs/generated/plotly.express.histogram.html) to display two overlapping histograms.\n",
        "* The time period of handwashing is shorter than not handwashing. Change `histnorm` to `percent` to make the time periods comparable. \n",
        "* Make the histograms slighlty transparent\n",
        "* Experiment with the number of bins on the histogram. Which number work well in communicating the range of outcomes?\n",
        "* Just for fun, display your box plot on the top of the histogram using the `marginal` parameter. "
      ]
    },
    {
      "cell_type": "code",
      "execution_count": null,
      "metadata": {
        "id": "mgRoUP7NIMU9"
      },
      "outputs": [],
      "source": []
    },
    {
      "cell_type": "code",
      "execution_count": null,
      "metadata": {
        "id": "ZUmW8ES5IMhZ"
      },
      "outputs": [],
      "source": []
    },
    {
      "cell_type": "markdown",
      "metadata": {
        "id": "6xEmXJWM63ep"
      },
      "source": [
        "### Use a Kernel Density Estimate (KDE) to visualise a smooth distribution\n",
        "\n",
        "**Challenge**: Use [Seaborn's `.kdeplot()`](https://seaborn.pydata.org/generated/seaborn.kdeplot.html) to create two kernel density estimates of the `pct_deaths`, one for before handwashing and one for after. \n",
        "\n",
        "* Use the `shade` parameter to give your two distributions different colours. \n",
        "* What weakness in the chart do you see when you just use the default parameters?\n",
        "* Use the `clip` parameter to address the problem. \n"
      ]
    },
    {
      "cell_type": "code",
      "execution_count": null,
      "metadata": {
        "id": "MKxD_c_cINxx"
      },
      "outputs": [],
      "source": []
    },
    {
      "cell_type": "code",
      "execution_count": null,
      "metadata": {
        "id": "yV8gUkLuINmX"
      },
      "outputs": [],
      "source": []
    },
    {
      "cell_type": "markdown",
      "metadata": {
        "id": "F7lNXT7X63et"
      },
      "source": [
        "### Use a T-Test to Show Statistical Significance\n",
        "\n",
        "**Challenge**: Use a t-test to determine if the differences in the means are statistically significant or purely due to chance. \n",
        "\n",
        "If the p-value is less than 1% then we can be 99% certain that handwashing has made a difference to the average monthly death rate. \n",
        "\n",
        "* Import `stats` from scipy\n",
        "* Use the [`.ttest_ind()` function](https://docs.scipy.org/]doc/scipy/reference/generated/scipy.stats.ttest_ind.html) to calculate the t-statistic and the p-value\n",
        "* Is the difference in the average proportion of monthly deaths statistically significant at the 99% level? \n",
        "\n"
      ]
    },
    {
      "cell_type": "code",
      "execution_count": null,
      "metadata": {
        "id": "3gG5RDz_IQLJ"
      },
      "outputs": [],
      "source": []
    },
    {
      "cell_type": "code",
      "execution_count": null,
      "metadata": {
        "id": "KQbDwe_GIP_G"
      },
      "outputs": [],
      "source": []
    },
    {
      "cell_type": "markdown",
      "metadata": {
        "id": "ljuC4qkz6BbA"
      },
      "source": [
        "What do you conclude from your analysis, Doctor? 😊\n",
        "\n",
        "<img src=https://i.imgur.com/rvjNVzQ.gif>"
      ]
    },
    {
      "cell_type": "code",
      "execution_count": null,
      "metadata": {
        "id": "3qNGdccG6D34"
      },
      "outputs": [],
      "source": []
    }
  ],
  "metadata": {
    "colab": {
      "name": "Dr Semmelweis Handwashing Discovery (start).ipynb",
      "provenance": [],
      "toc_visible": true
    },
    "kernelspec": {
      "display_name": "Python 3",
      "language": "python",
      "name": "python3"
    },
    "language_info": {
      "codemirror_mode": {
        "name": "ipython",
        "version": 3
      },
      "file_extension": ".py",
      "mimetype": "text/x-python",
      "name": "python",
      "nbconvert_exporter": "python",
      "pygments_lexer": "ipython3",
      "version": "3.11.9"
    }
  },
  "nbformat": 4,
  "nbformat_minor": 0
}
